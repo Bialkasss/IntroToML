{
 "cells": [
  {
   "cell_type": "markdown",
   "metadata": {},
   "source": [
    "# Introduction to Numpy\n",
    "##### Made by Maria Musiał\n",
    "\n",
    "---------\n"
   ]
  },
  {
   "cell_type": "markdown",
   "metadata": {},
   "source": [
    "Numpy is the core library for scientific computing in Python. It provides a high-performance multidimensional array object, and tools for working with these arrays."
   ]
  },
  {
   "cell_type": "markdown",
   "metadata": {},
   "source": [
    "Python is among the least efficient languages out there. Data mining is a field of study, which requires a lot of processing power. Why would we ever want to use python in order to do ML? The answer is really simple - we do not. We use python only as an interface to packages, which contain very efficient and optimized programs, such as numpy, scipy, sklearn, tensorflow, pytorch, keras... The list is long. Python is very flexible and simple. We just like its syntax, ability to combine it with programs written in other languages, not necessairly its efficency. `NumPy` stores everything in multidimensional arrays called ndarray and vectorizes all operations on these arrays. \n",
    "\n",
    "Contrary to Python lists, the NumPy arrays represent tensors (e.g. 1st rank tensor - a vector, 2nd rank tensor - a matrix). Python list is just a list of things, specifically it could be a list of lists, there is no additional limitation to that. A tensor has some limitations:\n",
    "- every element must be of the same type and size\n",
    "- if an array has arrays, they must match as well\n",
    "\n",
    "After all this:\n",
    "\n",
    "\\begin{matrix} 1 & 2 & 3 \\\\ 4 & 5 & 6 & 8 \\\\ 7 & 8 &  \\end{matrix}\n",
    "\n",
    "is not a matrix.\n",
    "\n",
    "While this:\n",
    "\n"
   ]
  },
  {
   "cell_type": "code",
   "execution_count": 1,
   "metadata": {},
   "outputs": [],
   "source": [
    "lst = [[1,2,3],[4,5,6,8],[7,8]]"
   ]
  },
  {
   "cell_type": "markdown",
   "metadata": {},
   "source": [
    "is a list.\n"
   ]
  },
  {
   "cell_type": "markdown",
   "metadata": {},
   "source": [
    "A numpy array is a grid of values, all of the same type, and is indexed by a tuple of nonnegative integers. The number of dimensions is the rank of the array; the shape of an array is a tuple of integers giving the size of the array along each dimension."
   ]
  },
  {
   "cell_type": "code",
   "execution_count": 3,
   "metadata": {},
   "outputs": [],
   "source": [
    "import numpy as np"
   ]
  },
  {
   "cell_type": "code",
   "execution_count": 25,
   "metadata": {},
   "outputs": [],
   "source": [
    "a = np.array([1,2,3])"
   ]
  },
  {
   "cell_type": "code",
   "execution_count": 23,
   "metadata": {},
   "outputs": [
    {
     "name": "stdout",
     "output_type": "stream",
     "text": [
      "[[1 2 3 4 5]\n",
      " [1 1 2 3 5]] [[ 1  2  3  4  5]\n",
      " [ 1  4  9 16 25]]\n"
     ]
    }
   ],
   "source": [
    "print(a[0], a[1])"
   ]
  },
  {
   "cell_type": "code",
   "execution_count": 12,
   "metadata": {},
   "outputs": [
    {
     "name": "stdout",
     "output_type": "stream",
     "text": [
      "(2, 3)\n"
     ]
    }
   ],
   "source": [
    "b= np.array([[1,2,3],[4,5,6]])\n",
    "print(b.shape)  #we have 2 rpws and 3 columns"
   ]
  },
  {
   "cell_type": "code",
   "execution_count": 11,
   "metadata": {},
   "outputs": [
    {
     "name": "stdout",
     "output_type": "stream",
     "text": [
      "1 2 4\n"
     ]
    }
   ],
   "source": [
    "print(b[0,0], b[0,1], b[1,0]) "
   ]
  },
  {
   "cell_type": "markdown",
   "metadata": {},
   "source": [
    "As you can see the handling of ndarrays is quite simillar to simple lists in python. Now let's explore some useful np functions for creating special arrays. They will prove to be useful in future for you."
   ]
  },
  {
   "cell_type": "code",
   "execution_count": 17,
   "metadata": {},
   "outputs": [
    {
     "name": "stdout",
     "output_type": "stream",
     "text": [
      "Array of zeros: \n",
      " [[0. 0.]\n",
      " [0. 0.]]\n",
      "Array of ones: \n",
      " [[1. 1.]\n",
      " [1. 1.]\n",
      " [1. 1.]]\n",
      "Array of constants: \n",
      " [[7 7 7]\n",
      " [7 7 7]\n",
      " [7 7 7]]\n",
      "Identity matrix: \n",
      " [[1. 0. 0.]\n",
      " [0. 1. 0.]\n",
      " [0. 0. 1.]]\n",
      "Array of random values: \n",
      " [[0.70254182 0.45544815]\n",
      " [0.7957028  0.70041184]]\n"
     ]
    }
   ],
   "source": [
    "a = np.zeros((2,2))\n",
    "print(\"Array of zeros: \\n\", a)\n",
    "\n",
    "b = np.ones((3,2))\n",
    "print(\"Array of ones: \\n\", b)\n",
    "\n",
    "c = np.full((3,3), 7)\n",
    "print(\"Array of constants: \\n\", c)\n",
    "\n",
    "d = np.eye(3)\n",
    "print(\"Identity matrix: \\n\", d)\n",
    "\n",
    "e = np.random.random((2,2))\n",
    "print(\"Array of random values: \\n\", e)"
   ]
  },
  {
   "cell_type": "markdown",
   "metadata": {},
   "source": [
    "You can see that sometimes the values in array have a dot (.) at the end. It means that the datatype is a float. It sometimes can mess up our calculations, so we can assign specific datatype."
   ]
  },
  {
   "cell_type": "code",
   "execution_count": 20,
   "metadata": {},
   "outputs": [
    {
     "name": "stdout",
     "output_type": "stream",
     "text": [
      "<class 'numpy.float64'>\n",
      "<class 'numpy.int8'>\n"
     ]
    }
   ],
   "source": [
    "print(type(a[0, 0]))    #<class 'numpy.float64'>\n",
    "\n",
    "#Assign with different dtpye\n",
    "a = np.array([[1,2,3],[4,5,6]], dtype=np.int8)\n",
    "print(type(a[0, 0]))    #<class 'numpy.int8'>"
   ]
  },
  {
   "cell_type": "code",
   "execution_count": 27,
   "metadata": {},
   "outputs": [
    {
     "name": "stdout",
     "output_type": "stream",
     "text": [
      "\n",
      "Shape (sizes of dimensions): (2, 2, 5)\n",
      "Number of dimensions: 3\n",
      "Length (number of elements): 2\n",
      "Size (number of nested elements): 20\n",
      "Type : <class 'numpy.ndarray'>\n",
      "Data type (type of array elements): int32\n",
      "\n"
     ]
    }
   ],
   "source": [
    "a = np.array([\n",
    "    [\n",
    "    [1, 2, 3, 4, 5],\n",
    "    [1, 1, 2, 3, 5]\n",
    "    ],\n",
    "    [\n",
    "    [1, 2, 3, 4, 5],\n",
    "    [1, 4, 9, 16, 25]\n",
    "    ]\n",
    "])\n",
    "\n",
    "print(f\"\"\"\n",
    "Shape (sizes of dimensions): {a.shape}\n",
    "Number of dimensions: {a.ndim}\n",
    "Length (number of elements): {len(a)}\n",
    "Size (number of nested elements): {a.size}\n",
    "Type : {type(a)}\n",
    "Data type (type of array elements): {a.dtype}\n",
    "\"\"\")"
   ]
  },
  {
   "cell_type": "markdown",
   "metadata": {},
   "source": [
    "If we mix datatypes , we end up with character string and we loose cool perks of numpy"
   ]
  },
  {
   "cell_type": "code",
   "execution_count": 36,
   "metadata": {},
   "outputs": [
    {
     "data": {
      "text/plain": [
       "dtype('<U32')"
      ]
     },
     "execution_count": 36,
     "metadata": {},
     "output_type": "execute_result"
    }
   ],
   "source": [
    "a = np.array([1, 2, 'mary', 'had', 2.5, 'lambs'])\n",
    "a\n",
    "a.dtype"
   ]
  },
  {
   "cell_type": "markdown",
   "metadata": {},
   "source": [
    "We can also change the shape of out array whenever we want"
   ]
  },
  {
   "cell_type": "code",
   "execution_count": 37,
   "metadata": {},
   "outputs": [
    {
     "name": "stdout",
     "output_type": "stream",
     "text": [
      "(12,)\n"
     ]
    }
   ],
   "source": [
    "a = np.array(list(range(12)))\n",
    "print(a.shape)"
   ]
  },
  {
   "cell_type": "code",
   "execution_count": 38,
   "metadata": {},
   "outputs": [
    {
     "name": "stdout",
     "output_type": "stream",
     "text": [
      "[[ 0  1  2  3]\n",
      " [ 4  5  6  7]\n",
      " [ 8  9 10 11]]\n"
     ]
    }
   ],
   "source": [
    "a.shape = (3,4)  #reshape to 3 rows and 4 columns\n",
    "print(a)"
   ]
  },
  {
   "cell_type": "code",
   "execution_count": 39,
   "metadata": {},
   "outputs": [
    {
     "name": "stdout",
     "output_type": "stream",
     "text": [
      "[[ 0  1]\n",
      " [ 2  3]\n",
      " [ 4  5]\n",
      " [ 6  7]\n",
      " [ 8  9]\n",
      " [10 11]]\n"
     ]
    }
   ],
   "source": [
    "a = a.reshape(6, 2)   #reshape to 6 rows and 2 columns\n",
    "print(a)"
   ]
  },
  {
   "cell_type": "code",
   "execution_count": 63,
   "metadata": {},
   "outputs": [
    {
     "name": "stdout",
     "output_type": "stream",
     "text": [
      "[[ 1  5  9]\n",
      " [ 2  6 10]\n",
      " [ 3  7 11]\n",
      " [ 4  8 12]]\n",
      "[[ 1  5  9]\n",
      " [ 2  6 10]\n",
      " [ 3  7 11]\n",
      " [ 4  8 12]]\n"
     ]
    }
   ],
   "source": [
    "print(a.T)  #transpose\n",
    "print(np.transpose(a))"
   ]
  },
  {
   "cell_type": "markdown",
   "metadata": {},
   "source": [
    "### Indexing arrays:"
   ]
  },
  {
   "cell_type": "code",
   "execution_count": 50,
   "metadata": {},
   "outputs": [
    {
     "name": "stdout",
     "output_type": "stream",
     "text": [
      "Array of shape (3,4):\n",
      " [[ 1  2  3  4]\n",
      " [ 5  6  7  8]\n",
      " [ 9 10 11 12]]\n",
      "row of rank 1:\n",
      " [5 6 7 8] (4,)\n",
      "row of rank 2:\n",
      " [[5 6 7 8]] (1, 4)\n",
      "column of rank 1:\n",
      " [ 2  6 10] (3,)\n",
      "column of rank 2:\n",
      " [[ 2]\n",
      " [ 6]\n",
      " [10]] (3, 1)\n"
     ]
    }
   ],
   "source": [
    "a = np.array([[1,2,3,4], [5,6,7,8], [9,10,11,12]])\n",
    "print(\"Array of shape (3,4):\\n\", a)\n",
    "\n",
    "# Two ways of accessing the data in the middle row of the array.\n",
    "# Mixing integer indexing with slices yields an array of lower rank,\n",
    "# while using only slices yields an array of the same rank as the\n",
    "# original array:\n",
    "row_r1 = a[1, :]    # Rank 1 view of the second row of a\n",
    "row_r2 = a[1:2, :]  # Rank 2 view of the second row of a\n",
    "print(\"row of rank 1:\\n\", row_r1, row_r1.shape)  \n",
    "print(\"row of rank 2:\\n\", row_r2, row_r2.shape)  \n",
    "\n",
    "# We can make the same distinction when accessing columns of an array:\n",
    "col_r1 = a[:, 1]\n",
    "col_r2 = a[:, 1:2]\n",
    "print(\"column of rank 1:\\n\", col_r1, col_r1.shape)  \n",
    "print(\"column of rank 2:\\n\" ,col_r2, col_r2.shape)  "
   ]
  },
  {
   "cell_type": "markdown",
   "metadata": {},
   "source": [
    "In conclusion:"
   ]
  },
  {
   "cell_type": "code",
   "execution_count": 52,
   "metadata": {},
   "outputs": [
    {
     "name": "stdout",
     "output_type": "stream",
     "text": [
      "[[ 1  2  3  4]\n",
      " [ 5  6  7  8]\n",
      " [ 9 10 11 12]]\n",
      "\n",
      "Element at second row, third column: 7\n",
      "Entire first row: [1 2 3 4]\n",
      "Entire first row as 2-d array: [[1 2 3 4]]\n",
      "First and second rows, last column: [4 8]\n",
      "2,3 row, middle elements: [[ 6  7]\n",
      " [10 11]]\n",
      "\n"
     ]
    }
   ],
   "source": [
    "a = np.array([[1,2,3,4], [5,6,7,8], [9,10,11,12]])\n",
    "\n",
    "print(f\"\"\"{a}\n",
    "\n",
    "Element at second row, third column: {a[1,2]}\n",
    "Entire first row: {a[0]}\n",
    "Entire first row as 2-d array: {a[0, None]}\n",
    "First and second rows, last column: {a[:2,-1]}\n",
    "2,3 row, middle elements: {a[1:, 1:3]}\n",
    "\"\"\")"
   ]
  },
  {
   "cell_type": "markdown",
   "metadata": {},
   "source": [
    "### Operations on arrays"
   ]
  },
  {
   "cell_type": "code",
   "execution_count": 54,
   "metadata": {},
   "outputs": [],
   "source": [
    "x = np.array([[1,2],[3,4]], dtype=np.float64)\n",
    "y = np.array([[5,6],[7,8]], dtype=np.float64)"
   ]
  },
  {
   "cell_type": "code",
   "execution_count": 55,
   "metadata": {},
   "outputs": [
    {
     "name": "stdout",
     "output_type": "stream",
     "text": [
      "[[ 6.  8.]\n",
      " [10. 12.]]\n",
      "[[ 6.  8.]\n",
      " [10. 12.]]\n"
     ]
    }
   ],
   "source": [
    "# Elementwise sum; both produce the array\n",
    "print(x + y)\n",
    "print(np.add(x, y))"
   ]
  },
  {
   "cell_type": "code",
   "execution_count": 56,
   "metadata": {},
   "outputs": [
    {
     "name": "stdout",
     "output_type": "stream",
     "text": [
      "[[-4. -4.]\n",
      " [-4. -4.]]\n",
      "[[-4. -4.]\n",
      " [-4. -4.]]\n"
     ]
    }
   ],
   "source": [
    "# Elementwise difference; both produce the array\n",
    "print(x - y)\n",
    "print(np.subtract(x, y))"
   ]
  },
  {
   "cell_type": "code",
   "execution_count": 57,
   "metadata": {},
   "outputs": [
    {
     "name": "stdout",
     "output_type": "stream",
     "text": [
      "[[ 5. 12.]\n",
      " [21. 32.]]\n",
      "[[ 5. 12.]\n",
      " [21. 32.]]\n"
     ]
    }
   ],
   "source": [
    "# Elementwise product; both produce the array\n",
    "print(x * y)\n",
    "print(np.multiply(x, y))"
   ]
  },
  {
   "cell_type": "code",
   "execution_count": 58,
   "metadata": {},
   "outputs": [
    {
     "name": "stdout",
     "output_type": "stream",
     "text": [
      "[[19. 22.]\n",
      " [43. 50.]]\n",
      "[[19. 22.]\n",
      " [43. 50.]]\n"
     ]
    }
   ],
   "source": [
    "#Matrix multiplication\n",
    "print(x @ y)\n",
    "print(np.dot(x, y))"
   ]
  },
  {
   "cell_type": "code",
   "execution_count": 59,
   "metadata": {},
   "outputs": [
    {
     "name": "stdout",
     "output_type": "stream",
     "text": [
      "[[0.2        0.33333333]\n",
      " [0.42857143 0.5       ]]\n",
      "[[0.2        0.33333333]\n",
      " [0.42857143 0.5       ]]\n"
     ]
    }
   ],
   "source": [
    "# Elementwise division; both produce the array\n",
    "print(x / y)\n",
    "print(np.divide(x, y))"
   ]
  },
  {
   "cell_type": "code",
   "execution_count": 60,
   "metadata": {},
   "outputs": [
    {
     "name": "stdout",
     "output_type": "stream",
     "text": [
      "[[1.         1.41421356]\n",
      " [1.73205081 2.        ]]\n"
     ]
    }
   ],
   "source": [
    "# Elementwise square root; produces the array\n",
    "print(np.sqrt(x))"
   ]
  },
  {
   "cell_type": "code",
   "execution_count": 62,
   "metadata": {},
   "outputs": [
    {
     "name": "stdout",
     "output_type": "stream",
     "text": [
      "10.0\n",
      "[4. 6.]\n",
      "[3. 7.]\n"
     ]
    }
   ],
   "source": [
    "# Sum along axis - 0 is column, 1 is row\n",
    "print(np.sum(x))  #sum of all elements\n",
    "print(np.sum(x, axis=0))  #sum of each column\n",
    "print(np.sum(x, axis=1))  #sum of each row"
   ]
  },
  {
   "cell_type": "markdown",
   "metadata": {},
   "source": [
    "### Broadcasting\n"
   ]
  },
  {
   "cell_type": "markdown",
   "metadata": {},
   "source": [
    "Broadcasting is a powerful mechanism that allows numpy to work with arrays of different shapes when performing arithmetic operations. Frequently we have a smaller array and a larger array, and we want to use the smaller array multiple times to perform some operation on the larger array."
   ]
  },
  {
   "cell_type": "code",
   "execution_count": 64,
   "metadata": {},
   "outputs": [
    {
     "name": "stdout",
     "output_type": "stream",
     "text": [
      "Array a:\n",
      " [1 2 3]\n",
      "Array b:\n",
      " [[1 2 3]\n",
      " [4 5 6]\n",
      " [7 8 9]]\n",
      "Result of a + b:\n",
      " [[ 2  4  6]\n",
      " [ 5  7  9]\n",
      " [ 8 10 12]]\n"
     ]
    }
   ],
   "source": [
    "a = np.array([1, 2, 3])\n",
    "b = np.array([[1, 2, 3], [4, 5, 6], [7, 8, 9]])\n",
    "\n",
    "# Perform element-wise addition\n",
    "result = a + b\n",
    "print(\"Array a:\\n\", a)\n",
    "print(\"Array b:\\n\", b)\n",
    "print(\"Result of a + b:\\n\", result)"
   ]
  },
  {
   "cell_type": "markdown",
   "metadata": {},
   "source": [
    "As you can see, numpy intelligently broadcasted shape so that we added a to each row of b"
   ]
  },
  {
   "cell_type": "code",
   "execution_count": 65,
   "metadata": {},
   "outputs": [
    {
     "name": "stdout",
     "output_type": "stream",
     "text": [
      "Array c:\n",
      " [[1 2 3]\n",
      " [4 5 6]\n",
      " [7 8 9]]\n",
      "Scalar d: 10\n",
      "Result of c * d:\n",
      " [[10 20 30]\n",
      " [40 50 60]\n",
      " [70 80 90]]\n"
     ]
    }
   ],
   "source": [
    "c = np.array([[1, 2, 3], [4, 5, 6], [7, 8, 9]])\n",
    "d = 10\n",
    "\n",
    "# Perform multiplication\n",
    "result = c * d\n",
    "print(\"Array c:\\n\", c)\n",
    "print(\"Scalar d:\", d)\n",
    "print(\"Result of c * d:\\n\", result)"
   ]
  },
  {
   "cell_type": "code",
   "execution_count": null,
   "metadata": {},
   "outputs": [
    {
     "name": "stdout",
     "output_type": "stream",
     "text": [
      "Array e:\n",
      " [1 2 3 4]\n",
      "Array f:\n",
      " [[ 1  2  3  4]\n",
      " [ 5  6  7  8]\n",
      " [ 9 10 11 12]]\n",
      "Result of e + f:\n",
      " [[ 2  4  6  8]\n",
      " [ 6  8 10 12]\n",
      " [10 12 14 16]]\n",
      "Error: operands could not be broadcast together with shapes (3,) (3,4) \n"
     ]
    }
   ],
   "source": [
    "# Define the arrays\n",
    "e = np.array([1, 2, 3, 4])\n",
    "f = np.array([[1, 2, 3, 4], [5, 6, 7, 8], [9, 10, 11, 12]])\n",
    "\n",
    "# Perform element-wise addition\n",
    "result = e + f\n",
    "print(\"Array e:\\n\", e)\n",
    "print(\"Array f:\\n\", f)\n",
    "print(\"Result of e + f:\\n\", result)\n"
   ]
  },
  {
   "cell_type": "code",
   "execution_count": 68,
   "metadata": {},
   "outputs": [
    {
     "name": "stdout",
     "output_type": "stream",
     "text": [
      "Error: operands could not be broadcast together with shapes (3,) (3,4) \n"
     ]
    }
   ],
   "source": [
    "g = np.array([1, 2, 3])\n",
    "# Attempt to perform element-wise addition\n",
    "try:\n",
    "    result = g + f\n",
    "    print(\"Array g:\\n\", g)\n",
    "    print(\"Array f:\\n\", f)\n",
    "    print(\"Result of g + f:\\n\", result)\n",
    "except ValueError as e:\n",
    "    print(\"Error:\", e)"
   ]
  },
  {
   "cell_type": "markdown",
   "metadata": {},
   "source": [
    "Why do we have an error this time?"
   ]
  },
  {
   "cell_type": "markdown",
   "metadata": {},
   "source": [
    "### Array manipulation"
   ]
  },
  {
   "cell_type": "markdown",
   "metadata": {},
   "source": [
    "The fun part of Numpy is that we can manipulate arrays however we want. We dont need to create loops that are messy and hard to read. "
   ]
  },
  {
   "cell_type": "code",
   "execution_count": 81,
   "metadata": {},
   "outputs": [
    {
     "name": "stdout",
     "output_type": "stream",
     "text": [
      "Concatenate 1D arrays:\n",
      " [1 2 3 4 5 6]\n",
      "\n",
      "Concatenate 2D arrays along axis 0:\n",
      " [[ 1  2  3]\n",
      " [ 4  5  6]\n",
      " [ 7  8  9]\n",
      " [10 11 12]]\n"
     ]
    }
   ],
   "source": [
    "a = np.array([1, 2, 3])\n",
    "b = np.array([4, 5, 6])\n",
    "\n",
    "# Concatenate a and b along the first axis\n",
    "result_1d = np.concatenate((a, b))\n",
    "print(\"Concatenate 1D arrays:\\n\", result_1d)\n",
    "\n",
    "c = np.array([[1, 2, 3], [4, 5, 6]])\n",
    "d = np.array([[7, 8, 9], [10, 11, 12]])\n",
    "\n",
    "# Concatenate c and d along axis 0\n",
    "result_2d = np.concatenate((c, d), axis=0)\n",
    "print(\"\\nConcatenate 2D arrays along axis 0:\\n\", result_2d)\n"
   ]
  },
  {
   "cell_type": "code",
   "execution_count": 82,
   "metadata": {},
   "outputs": [
    {
     "name": "stdout",
     "output_type": "stream",
     "text": [
      "Stacked arrays along a new axis:\n",
      " [[1 2 3]\n",
      " [1 2 3]\n",
      " [1 2 3]]\n",
      "Shape of stacked array: (3, 3)\n"
     ]
    }
   ],
   "source": [
    "a = np.array([1, 2, 3])\n",
    "b = np.array([1, 2, 3])\n",
    "c = np.array([1, 2, 3])\n",
    "\n",
    "# Stack a, b, and c along a new axis\n",
    "result = np.stack((a, b, c))\n",
    "print(\"Stacked arrays along a new axis:\\n\", result)\n",
    "print(\"Shape of stacked array:\", result.shape)\n"
   ]
  },
  {
   "cell_type": "code",
   "execution_count": 83,
   "metadata": {},
   "outputs": [
    {
     "name": "stdout",
     "output_type": "stream",
     "text": [
      "Split array into three parts:\n",
      " [array([1, 2]), array([3, 4]), array([5, 6])]\n",
      "\n",
      "Split 2D array along axis 1:\n",
      " [array([[ 1,  2],\n",
      "       [ 5,  6],\n",
      "       [ 9, 10],\n",
      "       [13, 14]]), array([[ 3,  4],\n",
      "       [ 7,  8],\n",
      "       [11, 12],\n",
      "       [15, 16]])]\n"
     ]
    }
   ],
   "source": [
    "a = np.array([1, 2, 3, 4, 5, 6])\n",
    "\n",
    "# Split array into three sub-arrays\n",
    "result = np.split(a, 3)\n",
    "print(\"Split array into three parts:\\n\", result)\n",
    "\n",
    "# Split a 2D array along axis 1\n",
    "b = np.array([[1, 2, 3, 4], [5, 6, 7, 8], [9, 10, 11, 12], [13, 14, 15, 16]])\n",
    "result_2d = np.split(b, 2, axis=1)\n",
    "print(\"\\nSplit 2D array along axis 1:\\n\", result_2d)\n"
   ]
  },
  {
   "cell_type": "markdown",
   "metadata": {},
   "source": [
    "Stacking arrays horizontally or vertically"
   ]
  },
  {
   "cell_type": "code",
   "execution_count": 84,
   "metadata": {},
   "outputs": [
    {
     "name": "stdout",
     "output_type": "stream",
     "text": [
      "Horizontally stacked arrays:\n",
      " [1 2 3 4 5 6]\n",
      "\n",
      "Horizontally stacked 2D arrays:\n",
      " [[ 1  2  3  7  8  9]\n",
      " [ 4  5  6 10 11 12]]\n",
      "\n",
      "Vertically stacked arrays:\n",
      " [[1 2 3]\n",
      " [4 5 6]]\n",
      "\n",
      "Vertically stacked 2D arrays:\n",
      " [[ 1  2  3]\n",
      " [ 4  5  6]\n",
      " [ 7  8  9]\n",
      " [10 11 12]]\n"
     ]
    }
   ],
   "source": [
    "a = np.array([1, 2, 3])\n",
    "b = np.array([4, 5, 6])\n",
    "\n",
    "# Stack arrays horizontally\n",
    "result = np.hstack((a, b))\n",
    "print(\"Horizontally stacked arrays:\\n\", result)\n",
    "\n",
    "# Horizontally stack 2D arrays\n",
    "c = np.array([[1, 2, 3], [4, 5, 6]])\n",
    "d = np.array([[7, 8, 9], [10, 11, 12]])\n",
    "result_2d = np.hstack((c, d))\n",
    "print(\"\\nHorizontally stacked 2D arrays:\\n\", result_2d)\n",
    "\n",
    "# Stack arrays vertically\n",
    "result = np.vstack((a, b))\n",
    "print(\"\\nVertically stacked arrays:\\n\", result)\n",
    "\n",
    "result_2d = np.vstack((c, d))\n",
    "print(\"\\nVertically stacked 2D arrays:\\n\", result_2d)\n",
    "\n"
   ]
  },
  {
   "cell_type": "code",
   "execution_count": 85,
   "metadata": {},
   "outputs": [
    {
     "name": "stdout",
     "output_type": "stream",
     "text": [
      "Original array:\n",
      " [[1 2]\n",
      " [3 4]\n",
      " [5 6]]\n",
      "Flattened array:\n",
      " [1 2 3 4 5 6]\n"
     ]
    }
   ],
   "source": [
    "a = np.array([[1, 2], [3, 4], [5, 6]])\n",
    "\n",
    "# Flatten the array    \n",
    "result = a.flatten()\n",
    "print(\"Original array:\\n\", a)\n",
    "print(\"Flattened array:\\n\", result)\n"
   ]
  },
  {
   "cell_type": "markdown",
   "metadata": {},
   "source": [
    "### Boolean indexing"
   ]
  },
  {
   "cell_type": "markdown",
   "metadata": {},
   "source": [
    "We can also index array by boolean masks. It is useful for filtering data."
   ]
  },
  {
   "cell_type": "code",
   "execution_count": 88,
   "metadata": {},
   "outputs": [
    {
     "name": "stdout",
     "output_type": "stream",
     "text": [
      "Original array:\n",
      " [ 1  2  3  4  5  6  7  8  9 10 11 12 13 14 15 16 17 18 19 20]\n",
      "\n",
      "Even numbers:\n",
      " [ 2  4  6  8 10 12 14 16 18 20]\n"
     ]
    }
   ],
   "source": [
    "arr = np.arange(1, 21)\n",
    "print(\"Original array:\\n\", arr)\n",
    "\n",
    "# Use Boolean indexing to filter even numbers\n",
    "even_numbers = arr[arr % 2 == 0]\n",
    "print(\"\\nEven numbers:\\n\", even_numbers)\n"
   ]
  },
  {
   "cell_type": "code",
   "execution_count": 89,
   "metadata": {},
   "outputs": [
    {
     "name": "stdout",
     "output_type": "stream",
     "text": [
      "Original array:\n",
      " [  2   5 -10  -7  -7  -3  -1   9   8  -6]\n",
      "\n",
      "Array with negatives replaced by 0:\n",
      " [2 5 0 0 0 0 0 9 8 0]\n"
     ]
    }
   ],
   "source": [
    "np.random.seed(0)\n",
    "arr = np.random.randint(-10, 11, 10)\n",
    "print(\"Original array:\\n\", arr)\n",
    "\n",
    "# Use Boolean indexing to replace negative values with 0\n",
    "arr[arr < 0] = 0\n",
    "print(\"\\nArray with negatives replaced by 0:\\n\", arr)"
   ]
  },
  {
   "cell_type": "code",
   "execution_count": 91,
   "metadata": {},
   "outputs": [
    {
     "name": "stdout",
     "output_type": "stream",
     "text": [
      "\n",
      "Elements between 10 and 30:\n",
      " [2 5 8]\n"
     ]
    }
   ],
   "source": [
    "filtered_elements = arr[(arr > 0) & (arr <= 8)]\n",
    "print(\"\\nElements between 10 and 30:\\n\", filtered_elements)"
   ]
  },
  {
   "cell_type": "markdown",
   "metadata": {},
   "source": [
    "### Exercise: Boolean indexing\n",
    "Create a 1D array of integers from 1 to 15. Replace all values that are either divisible by 3 or greater than 10 with -1."
   ]
  },
  {
   "cell_type": "code",
   "execution_count": 95,
   "metadata": {},
   "outputs": [],
   "source": [
    "#TODO"
   ]
  },
  {
   "cell_type": "markdown",
   "metadata": {},
   "source": [
    "### Exercise: Element-wise Operations on Vectors\n",
    "Create two random vectors a and b of length 10. \n",
    "\n",
    "1. Calculate the dot product of a and b.\n",
    "2. Use broadcasting to compute a^2 + b^2 for each element and store the results in a new array c.\n",
    "3. Find the maximum value in c, and then the index of this maximum."
   ]
  },
  {
   "cell_type": "code",
   "execution_count": 94,
   "metadata": {},
   "outputs": [],
   "source": [
    "#TODO"
   ]
  },
  {
   "cell_type": "markdown",
   "metadata": {},
   "source": [
    "### Exercise: Row multiplication based on condition\n",
    "Given a 5x5 matrix with random integers between -50 and 50, perform the following tasks:\n",
    "\n",
    "1. Replace all negative numbers with their absolute values. (np.abs())\n",
    "2. Extract all elements that are greater than 25 and find the mean of these elements. (.mean())\n",
    "3. Normalize the matrix to scale values between 0 and 1 (use .min(), .max()) and formula:\n",
    "- x' = (x - min(x))/(max(x) - min(x))"
   ]
  },
  {
   "cell_type": "code",
   "execution_count": 96,
   "metadata": {},
   "outputs": [],
   "source": [
    "np.random.seed(0)\n",
    "matrix = np.random.randint(-50, 51, (5, 5))\n",
    "\n",
    "#TODO"
   ]
  }
 ],
 "metadata": {
  "kernelspec": {
   "display_name": "base",
   "language": "python",
   "name": "python3"
  },
  "language_info": {
   "codemirror_mode": {
    "name": "ipython",
    "version": 3
   },
   "file_extension": ".py",
   "mimetype": "text/x-python",
   "name": "python",
   "nbconvert_exporter": "python",
   "pygments_lexer": "ipython3",
   "version": "3.9.13"
  }
 },
 "nbformat": 4,
 "nbformat_minor": 2
}
